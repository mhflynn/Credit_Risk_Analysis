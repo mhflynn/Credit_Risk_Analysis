{
 "cells": [
  {
   "cell_type": "code",
   "execution_count": 1,
   "id": "eeac6b8e",
   "metadata": {},
   "outputs": [],
   "source": [
    "import pandas as pd"
   ]
  },
  {
   "cell_type": "code",
   "execution_count": 2,
   "id": "c34c298f",
   "metadata": {},
   "outputs": [],
   "source": [
    "s_df = pd.read_csv('sampling_results.csv', index_col=0)\n",
    "e_df = pd.read_csv('ensemble_results.csv', index_col=0)"
   ]
  },
  {
   "cell_type": "code",
   "execution_count": 13,
   "id": "1647095c",
   "metadata": {},
   "outputs": [],
   "source": [
    "df = pd.concat([s_df, e_df])"
   ]
  },
  {
   "cell_type": "code",
   "execution_count": 16,
   "id": "866849b8",
   "metadata": {},
   "outputs": [],
   "source": [
    "df = df.reset_index().set_index('model', drop=True).rename(columns={'index':'label'})"
   ]
  },
  {
   "cell_type": "code",
   "execution_count": 17,
   "id": "6f497b6a",
   "metadata": {},
   "outputs": [
    {
     "data": {
      "text/html": [
       "<div>\n",
       "<style scoped>\n",
       "    .dataframe tbody tr th:only-of-type {\n",
       "        vertical-align: middle;\n",
       "    }\n",
       "\n",
       "    .dataframe tbody tr th {\n",
       "        vertical-align: top;\n",
       "    }\n",
       "\n",
       "    .dataframe thead th {\n",
       "        text-align: right;\n",
       "    }\n",
       "</style>\n",
       "<table border=\"1\" class=\"dataframe\">\n",
       "  <thead>\n",
       "    <tr style=\"text-align: right;\">\n",
       "      <th></th>\n",
       "      <th>label</th>\n",
       "      <th>pre</th>\n",
       "      <th>rec</th>\n",
       "      <th>spe</th>\n",
       "      <th>f1</th>\n",
       "      <th>geo</th>\n",
       "      <th>iba</th>\n",
       "      <th>sup</th>\n",
       "    </tr>\n",
       "    <tr>\n",
       "      <th>model</th>\n",
       "      <th></th>\n",
       "      <th></th>\n",
       "      <th></th>\n",
       "      <th></th>\n",
       "      <th></th>\n",
       "      <th></th>\n",
       "      <th></th>\n",
       "      <th></th>\n",
       "    </tr>\n",
       "  </thead>\n",
       "  <tbody>\n",
       "    <tr>\n",
       "      <th>NRO/LR</th>\n",
       "      <td>low_risk</td>\n",
       "      <td>0.997116</td>\n",
       "      <td>0.666433</td>\n",
       "      <td>0.620690</td>\n",
       "      <td>0.798908</td>\n",
       "      <td>0.643155</td>\n",
       "      <td>0.415540</td>\n",
       "      <td>17118</td>\n",
       "    </tr>\n",
       "    <tr>\n",
       "      <th>NRO/LR</th>\n",
       "      <td>high_risk</td>\n",
       "      <td>0.009368</td>\n",
       "      <td>0.620690</td>\n",
       "      <td>0.666433</td>\n",
       "      <td>0.018458</td>\n",
       "      <td>0.643155</td>\n",
       "      <td>0.411756</td>\n",
       "      <td>87</td>\n",
       "    </tr>\n",
       "    <tr>\n",
       "      <th>SMOTE</th>\n",
       "      <td>low_risk</td>\n",
       "      <td>0.996907</td>\n",
       "      <td>0.640203</td>\n",
       "      <td>0.609195</td>\n",
       "      <td>0.779695</td>\n",
       "      <td>0.624507</td>\n",
       "      <td>0.391218</td>\n",
       "      <td>17118</td>\n",
       "    </tr>\n",
       "    <tr>\n",
       "      <th>SMOTE</th>\n",
       "      <td>high_risk</td>\n",
       "      <td>0.008532</td>\n",
       "      <td>0.609195</td>\n",
       "      <td>0.640203</td>\n",
       "      <td>0.016828</td>\n",
       "      <td>0.624507</td>\n",
       "      <td>0.388800</td>\n",
       "      <td>87</td>\n",
       "    </tr>\n",
       "    <tr>\n",
       "      <th>USamp/LR</th>\n",
       "      <td>low_risk</td>\n",
       "      <td>0.996524</td>\n",
       "      <td>0.569342</td>\n",
       "      <td>0.609195</td>\n",
       "      <td>0.724664</td>\n",
       "      <td>0.588932</td>\n",
       "      <td>0.345458</td>\n",
       "      <td>17118</td>\n",
       "    </tr>\n",
       "    <tr>\n",
       "      <th>USamp/LR</th>\n",
       "      <td>high_risk</td>\n",
       "      <td>0.007138</td>\n",
       "      <td>0.609195</td>\n",
       "      <td>0.569342</td>\n",
       "      <td>0.014111</td>\n",
       "      <td>0.588932</td>\n",
       "      <td>0.348223</td>\n",
       "      <td>87</td>\n",
       "    </tr>\n",
       "    <tr>\n",
       "      <th>OUSamp/LR</th>\n",
       "      <td>low_risk</td>\n",
       "      <td>0.995234</td>\n",
       "      <td>0.426919</td>\n",
       "      <td>0.597701</td>\n",
       "      <td>0.597523</td>\n",
       "      <td>0.505144</td>\n",
       "      <td>0.250812</td>\n",
       "      <td>17118</td>\n",
       "    </tr>\n",
       "    <tr>\n",
       "      <th>OUSamp/LR</th>\n",
       "      <td>high_risk</td>\n",
       "      <td>0.005273</td>\n",
       "      <td>0.597701</td>\n",
       "      <td>0.426919</td>\n",
       "      <td>0.010453</td>\n",
       "      <td>0.505144</td>\n",
       "      <td>0.259528</td>\n",
       "      <td>87</td>\n",
       "    </tr>\n",
       "    <tr>\n",
       "      <th>BRFC</th>\n",
       "      <td>low_risk</td>\n",
       "      <td>0.998099</td>\n",
       "      <td>0.889590</td>\n",
       "      <td>0.666667</td>\n",
       "      <td>0.940726</td>\n",
       "      <td>0.770104</td>\n",
       "      <td>0.606281</td>\n",
       "      <td>17118</td>\n",
       "    </tr>\n",
       "    <tr>\n",
       "      <th>BRFC</th>\n",
       "      <td>high_risk</td>\n",
       "      <td>0.029774</td>\n",
       "      <td>0.666667</td>\n",
       "      <td>0.889590</td>\n",
       "      <td>0.057002</td>\n",
       "      <td>0.770104</td>\n",
       "      <td>0.579839</td>\n",
       "      <td>87</td>\n",
       "    </tr>\n",
       "    <tr>\n",
       "      <th>EEABC</th>\n",
       "      <td>low_risk</td>\n",
       "      <td>0.999505</td>\n",
       "      <td>0.944152</td>\n",
       "      <td>0.908046</td>\n",
       "      <td>0.971041</td>\n",
       "      <td>0.925923</td>\n",
       "      <td>0.860429</td>\n",
       "      <td>17118</td>\n",
       "    </tr>\n",
       "    <tr>\n",
       "      <th>EEABC</th>\n",
       "      <td>high_risk</td>\n",
       "      <td>0.076329</td>\n",
       "      <td>0.908046</td>\n",
       "      <td>0.944152</td>\n",
       "      <td>0.140820</td>\n",
       "      <td>0.925923</td>\n",
       "      <td>0.854238</td>\n",
       "      <td>87</td>\n",
       "    </tr>\n",
       "  </tbody>\n",
       "</table>\n",
       "</div>"
      ],
      "text/plain": [
       "               label       pre       rec       spe        f1       geo  \\\n",
       "model                                                                    \n",
       "NRO/LR      low_risk  0.997116  0.666433  0.620690  0.798908  0.643155   \n",
       "NRO/LR     high_risk  0.009368  0.620690  0.666433  0.018458  0.643155   \n",
       "SMOTE       low_risk  0.996907  0.640203  0.609195  0.779695  0.624507   \n",
       "SMOTE      high_risk  0.008532  0.609195  0.640203  0.016828  0.624507   \n",
       "USamp/LR    low_risk  0.996524  0.569342  0.609195  0.724664  0.588932   \n",
       "USamp/LR   high_risk  0.007138  0.609195  0.569342  0.014111  0.588932   \n",
       "OUSamp/LR   low_risk  0.995234  0.426919  0.597701  0.597523  0.505144   \n",
       "OUSamp/LR  high_risk  0.005273  0.597701  0.426919  0.010453  0.505144   \n",
       "BRFC        low_risk  0.998099  0.889590  0.666667  0.940726  0.770104   \n",
       "BRFC       high_risk  0.029774  0.666667  0.889590  0.057002  0.770104   \n",
       "EEABC       low_risk  0.999505  0.944152  0.908046  0.971041  0.925923   \n",
       "EEABC      high_risk  0.076329  0.908046  0.944152  0.140820  0.925923   \n",
       "\n",
       "                iba    sup  \n",
       "model                       \n",
       "NRO/LR     0.415540  17118  \n",
       "NRO/LR     0.411756     87  \n",
       "SMOTE      0.391218  17118  \n",
       "SMOTE      0.388800     87  \n",
       "USamp/LR   0.345458  17118  \n",
       "USamp/LR   0.348223     87  \n",
       "OUSamp/LR  0.250812  17118  \n",
       "OUSamp/LR  0.259528     87  \n",
       "BRFC       0.606281  17118  \n",
       "BRFC       0.579839     87  \n",
       "EEABC      0.860429  17118  \n",
       "EEABC      0.854238     87  "
      ]
     },
     "execution_count": 17,
     "metadata": {},
     "output_type": "execute_result"
    }
   ],
   "source": [
    "df"
   ]
  },
  {
   "cell_type": "code",
   "execution_count": 29,
   "id": "39dc7c8c",
   "metadata": {},
   "outputs": [
    {
     "data": {
      "text/plain": [
       "<AxesSubplot:xlabel='model'>"
      ]
     },
     "execution_count": 29,
     "metadata": {},
     "output_type": "execute_result"
    },
    {
     "data": {
      "image/png": "[encoded data removed]",
      "text/plain": [
       "<Figure size 432x288 with 1 Axes>"
      ]
     },
     "metadata": {
      "needs_background": "light"
     },
     "output_type": "display_data"
    }
   ],
   "source": [
    "df.loc[df['label']=='high_risk', ['pre', 'rec', 'f1']].plot(kind='bar')"
   ]
  },
  {
   "cell_type": "code",
   "execution_count": 31,
   "id": "bbfe028c",
   "metadata": {},
   "outputs": [
    {
     "data": {
      "text/plain": [
       "<AxesSubplot:xlabel='model'>"
      ]
     },
     "execution_count": 31,
     "metadata": {},
     "output_type": "execute_result"
    },
    {
     "data": {
      "image/png": "[encoded data removed]",
      "text/plain": [
       "<Figure size 432x288 with 1 Axes>"
      ]
     },
     "metadata": {
      "needs_background": "light"
     },
     "output_type": "display_data"
    }
   ],
   "source": [
    "df.loc[df['label']=='low_risk', ['pre', 'rec', 'f1']].plot(kind='bar')"
   ]
  },
  {
   "cell_type": "code",
   "execution_count": null,
   "id": "f086f7c3",
   "metadata": {},
   "outputs": [],
   "source": []
  }
 ],
 "metadata": {
  "kernelspec": {
   "display_name": "Python 3 (ipykernel)",
   "language": "python",
   "name": "python3"
  },
  "language_info": {
   "codemirror_mode": {
    "name": "ipython",
    "version": 3
   },
   "file_extension": ".py",
   "mimetype": "text/x-python",
   "name": "python",
   "nbconvert_exporter": "python",
   "pygments_lexer": "ipython3",
   "version": "3.9.12"
  }
 },
 "nbformat": 4,
 "nbformat_minor": 5
}
